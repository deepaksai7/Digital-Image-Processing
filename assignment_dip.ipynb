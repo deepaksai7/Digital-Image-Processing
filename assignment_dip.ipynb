{
 "cells": [
  {
   "cell_type": "code",
   "execution_count": 1,
   "metadata": {},
   "outputs": [],
   "source": [
    "import cv2\n",
    "import numpy as np\n",
    "from matplotlib import pyplot as plt"
   ]
  },
  {
   "cell_type": "code",
   "execution_count": 2,
   "metadata": {},
   "outputs": [],
   "source": [
    "image=cv2.imread('test.jpg')"
   ]
  },
  {
   "cell_type": "code",
   "execution_count": 3,
   "metadata": {},
   "outputs": [
    {
     "data": {
      "image/png": "[encoded data removed]",
      "text/plain": [
       "<Figure size 432x288 with 1 Axes>"
      ]
     },
     "metadata": {},
     "output_type": "display_data"
    }
   ],
   "source": [
    "#histogram of original image\n",
    "plt.hist(image.ravel(),256,[0,256])\n",
    "plt.show()"
   ]
  },
  {
   "cell_type": "code",
   "execution_count": 4,
   "metadata": {},
   "outputs": [],
   "source": [
    "#show original image\n",
    "cv2.imshow('original',image)\n",
    "cv2.waitKey(0)\n",
    "cv2.destroyAllWindows()"
   ]
  },
  {
   "cell_type": "code",
   "execution_count": 5,
   "metadata": {},
   "outputs": [],
   "source": [
    "#negative image\n",
    "negative_img=255-image"
   ]
  },
  {
   "cell_type": "code",
   "execution_count": 6,
   "metadata": {},
   "outputs": [
    {
     "data": {
      "text/plain": [
       "-1"
      ]
     },
     "execution_count": 6,
     "metadata": {},
     "output_type": "execute_result"
    }
   ],
   "source": [
    "cv2.imshow('negative',negative_img)\n",
    "cv2.waitKey(0)"
   ]
  },
  {
   "cell_type": "code",
   "execution_count": 4,
   "metadata": {},
   "outputs": [],
   "source": [
    "#histogram equalization\n",
    "rows,columns,channel=image.shape"
   ]
  },
  {
   "cell_type": "code",
   "execution_count": 5,
   "metadata": {},
   "outputs": [],
   "source": [
    "blue=image[:,:,0]\n",
    "green=image[:,:,1]\n",
    "red=image[:,:,2]"
   ]
  },
  {
   "cell_type": "code",
   "execution_count": 6,
   "metadata": {},
   "outputs": [],
   "source": [
    "#creating histogram\n",
    "blue_intensity_count=np.zeros(256)\n",
    "green_intensity_count=np.zeros(256)\n",
    "red_intensity_count=np.zeros(256)\n",
    "for i in range(rows):\n",
    "    for j in range(columns):\n",
    "        value_blue=blue[i][j]\n",
    "        value_green=green[i][j]\n",
    "        value_red=red[i][j]\n",
    "        blue_intensity_count[value_blue]=blue_intensity_count[value_blue]+1\n",
    "        green_intensity_count[value_green]=green_intensity_count[value_green]+1\n",
    "        red_intensity_count[value_red]=red_intensity_count[value_red]+1\n",
    "        \n"
   ]
  },
  {
   "cell_type": "code",
   "execution_count": 7,
   "metadata": {},
   "outputs": [],
   "source": [
    "#finding probability\n",
    "for k in range(256):\n",
    "    blue_intensity_count[k]=blue_intensity_count[k]/(rows*columns)\n",
    "    green_intensity_count[k]=green_intensity_count[k]/(rows*columns)\n",
    "    red_intensity_count[k]=red_intensity_count[k]/(rows*columns)"
   ]
  },
  {
   "cell_type": "code",
   "execution_count": 8,
   "metadata": {},
   "outputs": [],
   "source": [
    "#finding cumulative\n",
    "blue_cumulative=np.zeros(256)\n",
    "green_cumulative=np.zeros(256)\n",
    "red_cumulative=np.zeros(256)\n",
    "blue_cumulative[0]=blue_intensity_count[0]\n",
    "green_cumulative[0]=green_intensity_count[0]\n",
    "red_cumulative[0]=red_intensity_count[0]\n",
    "for l in range(255):\n",
    "    blue_cumulative[l+1]=blue_cumulative[l]+blue_intensity_count[l+1]\n",
    "    green_cumulative[l+1]=green_cumulative[l]+green_intensity_count[l+1]\n",
    "    red_cumulative[l+1]=red_cumulative[l]+red_intensity_count[l+1]\n",
    "    "
   ]
  },
  {
   "cell_type": "code",
   "execution_count": 9,
   "metadata": {},
   "outputs": [],
   "source": [
    "#multiplying with 255\n",
    "for m in range(256):\n",
    "    blue_cumulative[m]=round(blue_cumulative[m]*255)\n",
    "    green_cumulative[m]=round(green_cumulative[m]*255)\n",
    "    red_cumulative[m]=round(red_cumulative[m]*255)"
   ]
  },
  {
   "cell_type": "code",
   "execution_count": 10,
   "metadata": {},
   "outputs": [],
   "source": [
    "#mapping\n",
    "new=image.copy()\n"
   ]
  },
  {
   "cell_type": "code",
   "execution_count": 11,
   "metadata": {},
   "outputs": [
    {
     "data": {
      "text/plain": [
       "(183, 275)"
      ]
     },
     "execution_count": 11,
     "metadata": {},
     "output_type": "execute_result"
    }
   ],
   "source": [
    "blue.shape"
   ]
  },
  {
   "cell_type": "code",
   "execution_count": 12,
   "metadata": {},
   "outputs": [],
   "source": [
    "for n in range(rows):\n",
    "    for o in range(columns):\n",
    "        v1=blue[n][o]\n",
    "        v2=green[n][o]\n",
    "        v3=red[n][o]\n",
    "        blue[n][o]=blue_cumulative[v1]\n",
    "        green[n][o]=green_cumulative[v2]\n",
    "        red[n][o]=red_cumulative[v3]"
   ]
  },
  {
   "cell_type": "code",
   "execution_count": 13,
   "metadata": {},
   "outputs": [],
   "source": [
    "new[:,:,0]=blue\n",
    "new[:,:,1]=green\n",
    "new[:,:,2]=red"
   ]
  },
  {
   "cell_type": "code",
   "execution_count": 14,
   "metadata": {},
   "outputs": [
    {
     "data": {
      "image/png": "[encoded data removed]",
      "text/plain": [
       "<Figure size 432x288 with 1 Axes>"
      ]
     },
     "metadata": {},
     "output_type": "display_data"
    }
   ],
   "source": [
    "#histogram of equalized image\n",
    "plt.hist(new.ravel(),256,[0,256])\n",
    "plt.show()"
   ]
  },
  {
   "cell_type": "code",
   "execution_count": 15,
   "metadata": {},
   "outputs": [],
   "source": [
    "cv2.imshow('histogram_equalized_image',new)\n",
    "cv2.waitKey(0)\n",
    "cv2.destroyAllWindows()"
   ]
  },
  {
   "cell_type": "code",
   "execution_count": null,
   "metadata": {},
   "outputs": [],
   "source": []
  }
 ],
 "metadata": {
  "kernelspec": {
   "display_name": "Python 3",
   "language": "python",
   "name": "python3"
  },
  "language_info": {
   "codemirror_mode": {
    "name": "ipython",
    "version": 3
   },
   "file_extension": ".py",
   "mimetype": "text/x-python",
   "name": "python",
   "nbconvert_exporter": "python",
   "pygments_lexer": "ipython3",
   "version": "3.6.5"
  }
 },
 "nbformat": 4,
 "nbformat_minor": 2
}
